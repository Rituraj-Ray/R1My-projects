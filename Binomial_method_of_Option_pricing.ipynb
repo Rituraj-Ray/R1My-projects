{
  "nbformat": 4,
  "nbformat_minor": 0,
  "metadata": {
    "colab": {
      "provenance": [],
      "authorship_tag": "ABX9TyMRzaBYhT3f+4uLARMZWPZL"
    },
    "kernelspec": {
      "name": "python3",
      "display_name": "Python 3"
    },
    "language_info": {
      "name": "python"
    }
  },
  "cells": [
    {
      "cell_type": "code",
      "execution_count": 40,
      "metadata": {
        "id": "yWxtSnxsbXwU"
      },
      "outputs": [],
      "source": [
        "import numpy as np"
      ]
    },
    {
      "cell_type": "code",
      "source": [
        "#parameters\n",
        "S_0 = 100 #stock price\n",
        "K = 100 #strike price\n",
        "T = 1 #time to mature in years\n",
        "r = 0.06 #risk-free rate\n",
        "N = 3 #no of time steps\n",
        "u = 1.1 #up factor\n",
        "d = 1/u #down factor\n",
        "opt_type = 'C' #Call"
      ],
      "metadata": {
        "id": "-V8Xc0hMc56A"
      },
      "execution_count": 41,
      "outputs": []
    },
    {
      "cell_type": "code",
      "source": [
        "def binomial_tree_slow(S_0, K, T, r, N, u, d, opt_type='C'):\n",
        "  dt = T/N\n",
        "  q = (np.exp(r*dt) - d) / (u-d)\n",
        "  disc = np.exp(-r*dt)\n",
        "  #intialise asset prices at maturity\n",
        "  S = np.zeros(N+1)\n",
        "  S[0] = S_0*d**N\n",
        "  for j in range(1,N+1):\n",
        "    S[j] = S[j-1]*u/d\n",
        "  #initialise options price at maturity\n",
        "  C = np.zeros(N+1)\n",
        "  for j in range(0,N+1):\n",
        "    C[j] = max(0, S[j]-K)\n",
        "  #Step backwards through tree(with discounting)\n",
        "  for i in np.arange(N,0,-1):\n",
        "    for j in range(0,i):\n",
        "      C[j] = disc * (q *C[j+1] + (1-q) * C[j])\n",
        "  return C[0]"
      ],
      "metadata": {
        "id": "0KZzKSw8gi8Y"
      },
      "execution_count": 42,
      "outputs": []
    },
    {
      "cell_type": "code",
      "source": [
        "binomial_tree_slow(S_0, K, T, r, N, u, d, opt_type = 'C')"
      ],
      "metadata": {
        "colab": {
          "base_uri": "https://localhost:8080/"
        },
        "id": "gRzEhqnuLYJO",
        "outputId": "1398b910-8fe1-4d2c-ff91-0513c4fd228e"
      },
      "execution_count": 43,
      "outputs": [
        {
          "output_type": "execute_result",
          "data": {
            "text/plain": [
              "np.float64(10.145735799928817)"
            ]
          },
          "metadata": {},
          "execution_count": 43
        }
      ]
    }
  ]
}